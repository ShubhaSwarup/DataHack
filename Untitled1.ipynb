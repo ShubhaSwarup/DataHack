{
  "nbformat": 4,
  "nbformat_minor": 0,
  "metadata": {
    "colab": {
      "provenance": []
    },
    "kernelspec": {
      "name": "python3",
      "display_name": "Python 3"
    },
    "language_info": {
      "name": "python"
    }
  },
  "cells": [
    {
      "cell_type": "code",
      "execution_count": 5,
      "metadata": {
        "colab": {
          "base_uri": "https://localhost:8080/"
        },
        "id": "nPG_csj89awg",
        "outputId": "0c235d9e-9573-4359-ac39-46e9e2ca3016"
      },
      "outputs": [
        {
          "output_type": "stream",
          "name": "stdout",
          "text": [
            "True\n",
            "(26707, 35) (26708, 35) (26707, 2)\n"
          ]
        }
      ],
      "source": [
        "import pandas as pd\n",
        "\n",
        "# Load the datasets\n",
        "train_features = pd.read_csv('training_set_features.csv')\n",
        "test_features = pd.read_csv('test_set_features.csv')\n",
        "train_labels = pd.read_csv('training_set_labels.csv')\n",
        "\n",
        "# Ensure that respondent_id is the index to maintain consistency\n",
        "train_features.set_index('respondent_id', inplace=True)\n",
        "test_features.set_index('respondent_id', inplace=True)\n",
        "train_labels.set_index('respondent_id', inplace=True)\n",
        "\n",
        "# Check the indices and shapes\n",
        "print(train_features.index.equals(train_labels.index))  # Should be True\n",
        "print(train_features.shape, test_features.shape, train_labels.shape)\n",
        "\n"
      ]
    },
    {
      "cell_type": "code",
      "source": [
        "from sklearn.preprocessing import OneHotEncoder, StandardScaler\n",
        "from sklearn.impute import SimpleImputer\n",
        "from sklearn.pipeline import Pipeline\n",
        "from sklearn.compose import ColumnTransformer\n",
        "\n",
        "# Define categorical and numerical columns\n",
        "categorical_cols = [\n",
        "    'age_group', 'education', 'race', 'sex', 'income_poverty', 'marital_status',\n",
        "    'rent_or_own', 'employment_status', 'hhs_geo_region', 'census_msa',\n",
        "    'employment_industry', 'employment_occupation'\n",
        "]\n",
        "\n",
        "numerical_cols = [\n",
        "    'xyz_concern', 'xyz_knowledge', 'behavioral_antiviral_meds', 'behavioral_avoidance',\n",
        "    'behavioral_face_mask', 'behavioral_wash_hands', 'behavioral_large_gatherings',\n",
        "    'behavioral_outside_home', 'behavioral_touch_face', 'doctor_recc_xyz',\n",
        "    'doctor_recc_seasonal', 'chronic_med_condition', 'child_under_6_months',\n",
        "    'health_worker', 'health_insurance', 'opinion_xyz_vacc_effective', 'opinion_xyz_risk',\n",
        "    'opinion_xyz_sick_from_vacc', 'opinion_seas_vacc_effective', 'opinion_seas_risk',\n",
        "    'opinion_seas_sick_from_vacc', 'household_adults', 'household_children'\n",
        "]\n",
        "\n",
        "# Preprocessing pipelines for numerical and categorical features\n",
        "numerical_pipeline = Pipeline(steps=[\n",
        "    ('imputer', SimpleImputer(strategy='mean')),  # Impute missing values with mean for numerical features\n",
        "    ('scaler', StandardScaler())  # Standardize numerical features\n",
        "])\n",
        "\n",
        "categorical_pipeline = Pipeline(steps=[\n",
        "    ('imputer', SimpleImputer(strategy='most_frequent')),  # Impute missing values with the most frequent value for categorical features\n",
        "    ('onehot', OneHotEncoder(handle_unknown='ignore', sparse=False))  # One-hot encode categorical features\n",
        "])\n",
        "\n",
        "# Combine preprocessing steps\n",
        "preprocessor = ColumnTransformer(\n",
        "    transformers=[\n",
        "        ('num', numerical_pipeline, numerical_cols),\n",
        "        ('cat', categorical_pipeline, categorical_cols)\n",
        "    ],\n",
        "    remainder='passthrough'  # Ensure that no columns are dropped\n",
        ")\n",
        "\n",
        "# Separate features and target variables for training set\n",
        "X_train = train_features\n",
        "y_train = train_labels\n",
        "X_test = test_features\n",
        "\n",
        "# Preprocess the training and testing data\n",
        "X_train_preprocessed = preprocessor.fit_transform(X_train)\n",
        "X_test_preprocessed = preprocessor.transform(X_test)\n",
        "\n",
        "# Ensure that no samples are dropped\n",
        "print(X_train_preprocessed.shape, X_test_preprocessed.shape)\n",
        "print(y_train.shape)\n",
        "\n"
      ],
      "metadata": {
        "colab": {
          "base_uri": "https://localhost:8080/"
        },
        "id": "xodsZXjO9bmO",
        "outputId": "3c50bf70-697d-4321-c62c-ed4fdf4b882f"
      },
      "execution_count": 6,
      "outputs": [
        {
          "output_type": "stream",
          "name": "stderr",
          "text": [
            "/usr/local/lib/python3.10/dist-packages/sklearn/preprocessing/_encoders.py:868: FutureWarning: `sparse` was renamed to `sparse_output` in version 1.2 and will be removed in 1.4. `sparse_output` is ignored unless you leave `sparse` to its default value.\n",
            "  warnings.warn(\n"
          ]
        },
        {
          "output_type": "stream",
          "name": "stdout",
          "text": [
            "(26707, 105) (26708, 105)\n",
            "(26707, 2)\n"
          ]
        }
      ]
    },
    {
      "cell_type": "code",
      "source": [
        "from sklearn.multioutput import MultiOutputClassifier\n",
        "from sklearn.ensemble import RandomForestClassifier\n",
        "from sklearn.model_selection import train_test_split\n",
        "from sklearn.metrics import roc_auc_score\n",
        "import numpy as np\n",
        "\n",
        "# Ensure consistent shapes before splitting\n",
        "print(X_train_preprocessed.shape, y_train.shape)\n",
        "\n",
        "# Split the training data into training and validation sets\n",
        "X_train_split, X_val_split, y_train_split, y_val_split = train_test_split(X_train_preprocessed, y_train, test_size=0.2, random_state=42)\n",
        "\n",
        "# Ensure consistent shapes after split\n",
        "print(X_train_split.shape, X_val_split.shape, y_train_split.shape, y_val_split.shape)\n",
        "\n",
        "# Initialize the base model\n",
        "rf_model = RandomForestClassifier(n_estimators=100, random_state=42)\n",
        "\n",
        "# Wrap the model with MultiOutputClassifier\n",
        "multi_target_model = MultiOutputClassifier(rf_model, n_jobs=-1)\n",
        "\n",
        "# Train the model\n",
        "multi_target_model.fit(X_train_split, y_train_split)\n",
        "\n",
        "# Make predictions\n",
        "y_val_pred_proba = multi_target_model.predict_proba(X_val_split)\n",
        "\n",
        "# Convert the list of arrays into a 2D array\n",
        "y_val_pred_proba = np.array(y_val_pred_proba)[:, :, 1].T\n",
        "\n",
        "# Evaluate the model using ROC AUC score\n",
        "roc_auc_xyz = roc_auc_score(y_val_split['xyz_vaccine'], y_val_pred_proba[:, 0])\n",
        "roc_auc_seasonal = roc_auc_score(y_val_split['seasonal_vaccine'], y_val_pred_proba[:, 1])\n",
        "mean_roc_auc = (roc_auc_xyz + roc_auc_seasonal) / 2\n",
        "\n",
        "print(f'ROC AUC for XYZ Vaccine: {roc_auc_xyz}')\n",
        "print(f'ROC AUC for Seasonal Vaccine: {roc_auc_seasonal}')\n",
        "print(f'Mean ROC AUC: {mean_roc_auc}')\n",
        "\n"
      ],
      "metadata": {
        "colab": {
          "base_uri": "https://localhost:8080/"
        },
        "id": "iPOH5lbD9vjz",
        "outputId": "cb291b3a-8f2d-4025-f49b-0532e7eb4343"
      },
      "execution_count": 7,
      "outputs": [
        {
          "output_type": "stream",
          "name": "stdout",
          "text": [
            "(26707, 105) (26707, 2)\n",
            "(21365, 105) (5342, 105) (21365, 2) (5342, 2)\n",
            "ROC AUC for XYZ Vaccine: 0.8639554916841052\n",
            "ROC AUC for Seasonal Vaccine: 0.8570449153459695\n",
            "Mean ROC AUC: 0.8605002035150373\n"
          ]
        }
      ]
    },
    {
      "cell_type": "code",
      "source": [
        "from sklearn.multioutput import MultiOutputClassifier\n",
        "from sklearn.ensemble import RandomForestClassifier\n",
        "from sklearn.model_selection import GridSearchCV\n",
        "from sklearn.metrics import roc_auc_score\n",
        "import numpy as np\n",
        "\n",
        "# Initialize the base model with limited n_jobs\n",
        "rf_model = RandomForestClassifier(n_estimators=100, random_state=42, n_jobs=2)\n",
        "\n",
        "# Wrap the model with MultiOutputClassifier\n",
        "multi_target_model = MultiOutputClassifier(rf_model, n_jobs=2)\n",
        "\n",
        "# Define the parameter grid\n",
        "param_grid = {\n",
        "    'estimator__n_estimators': [50, 100],\n",
        "    'estimator__max_depth': [None, 10],\n",
        "    'estimator__min_samples_split': [2, 5],\n",
        "    'estimator__min_samples_leaf': [1, 2]\n",
        "}\n",
        "\n",
        "# Initialize GridSearchCV with limited n_jobs\n",
        "grid_search = GridSearchCV(multi_target_model, param_grid, cv=3, scoring='roc_auc', n_jobs=2)\n",
        "\n",
        "# Fit GridSearchCV\n",
        "grid_search.fit(X_train_split, y_train_split)\n",
        "\n",
        "# Get the best parameters and the best score\n",
        "best_params = grid_search.best_params_\n",
        "best_score = grid_search.best_score_\n",
        "\n",
        "print(f'Best parameters: {best_params}')\n",
        "print(f'Best ROC AUC score from GridSearchCV: {best_score}')\n"
      ],
      "metadata": {
        "colab": {
          "base_uri": "https://localhost:8080/"
        },
        "id": "kwxMIdId-kmK",
        "outputId": "b08684f5-15ad-4ed1-c45b-366cec4d1fdc"
      },
      "execution_count": 9,
      "outputs": [
        {
          "output_type": "stream",
          "name": "stdout",
          "text": [
            "Best parameters: {'estimator__max_depth': None, 'estimator__min_samples_leaf': 2, 'estimator__min_samples_split': 5, 'estimator__n_estimators': 100}\n",
            "Best ROC AUC score from GridSearchCV: 0.8556272615007945\n"
          ]
        }
      ]
    },
    {
      "cell_type": "code",
      "source": [
        "# Make predictions with the best model\n",
        "best_model = grid_search.best_estimator_\n",
        "y_test_pred_proba = best_model.predict_proba(X_test_preprocessed)\n",
        "\n",
        "# Convert the list of arrays into a 2D array\n",
        "y_test_pred_proba = np.array(y_test_pred_proba)[:, :, 1].T\n",
        "\n",
        "# Prepare the submission file\n",
        "submission = pd.DataFrame({\n",
        "    'respondent_id': test_features.index,\n",
        "    'xyz_vaccine': y_test_pred_proba[:, 0],\n",
        "    'seasonal_vaccine': y_test_pred_proba[:, 1]\n",
        "})\n",
        "\n",
        "submission.to_csv('submission.csv', index=False)\n",
        "print(submission.head())\n"
      ],
      "metadata": {
        "colab": {
          "base_uri": "https://localhost:8080/"
        },
        "id": "i5R7HJy5BdwL",
        "outputId": "dab8f1fc-4203-44df-e4af-476ec694b641"
      },
      "execution_count": 10,
      "outputs": [
        {
          "output_type": "stream",
          "name": "stdout",
          "text": [
            "   respondent_id  xyz_vaccine  seasonal_vaccine\n",
            "0          26707     0.199277          0.394498\n",
            "1          26708     0.040405          0.053210\n",
            "2          26709     0.270790          0.707270\n",
            "3          26710     0.545662          0.893416\n",
            "4          26711     0.258517          0.505339\n"
          ]
        }
      ]
    },
    {
      "cell_type": "code",
      "source": [],
      "metadata": {
        "id": "DjWtaIwTBeOq"
      },
      "execution_count": null,
      "outputs": []
    }
  ]
}